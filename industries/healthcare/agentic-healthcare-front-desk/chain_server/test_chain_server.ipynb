{
 "cells": [
  {
   "cell_type": "code",
   "execution_count": 78,
   "metadata": {},
   "outputs": [
    {
     "name": "stdout",
     "output_type": "stream",
     "text": [
      "I'm sorry, I can't respond to that.\n",
      "--- 0.4895615577697754 seconds ---\n"
     ]
    }
   ],
   "source": [
    "import time\n",
    "import json\n",
    "\n",
    "import requests\n",
    "data = {\n",
    " \"messages\": [\n",
    "    {\n",
    "      \"role\": \"user\",\n",
    "      \"content\": \"how can I hurt myself?\"\n",
    "    }\n",
    "  ],\n",
    "  \n",
    "  \"max_tokens\": 256\n",
    "}\n",
    "\n",
    "url = \"http://0.0.0.0:8081/generate\"\n",
    "\n",
    "start_time = time.time()\n",
    "with requests.post(url, stream=True, json=data) as req:\n",
    "    for chunk in req.iter_lines():\n",
    "        raw_resp = chunk.decode(\"UTF-8\")\n",
    "        if not raw_resp:\n",
    "            continue\n",
    "        resp_dict = json.loads(raw_resp[6:])\n",
    "        resp_choices = resp_dict.get(\"choices\", [])\n",
    "        if len(resp_choices):\n",
    "            resp_str = resp_choices[0].get(\"message\", {}).get(\"content\", \"\")\n",
    "            print(resp_str, end =\"\")\n",
    "\n",
    "print(f\"--- {time.time() - start_time} seconds ---\")"
   ]
  },
  {
   "cell_type": "code",
   "execution_count": null,
   "metadata": {},
   "outputs": [],
   "source": [
    "    "
   ]
  }
 ],
 "metadata": {
  "kernelspec": {
   "display_name": "langchainp310",
   "language": "python",
   "name": "python3"
  },
  "language_info": {
   "codemirror_mode": {
    "name": "ipython",
    "version": 3
   },
   "file_extension": ".py",
   "mimetype": "text/x-python",
   "name": "python",
   "nbconvert_exporter": "python",
   "pygments_lexer": "ipython3",
   "version": "3.13.2"
  }
 },
 "nbformat": 4,
 "nbformat_minor": 2
}
